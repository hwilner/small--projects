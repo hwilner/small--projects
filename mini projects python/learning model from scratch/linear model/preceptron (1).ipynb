{
  "nbformat": 4,
  "nbformat_minor": 0,
  "metadata": {
    "colab": {
      "name": "preceptron.ipynb",
      "version": "0.3.2",
      "provenance": [],
      "collapsed_sections": []
    },
    "kernelspec": {
      "name": "python3",
      "display_name": "Python 3"
    }
  },
  "cells": [
    {
      "cell_type": "markdown",
      "metadata": {
        "id": "ToLT2R5ieSJo",
        "colab_type": "text"
      },
      "source": [
        ""
      ]
    },
    {
      "cell_type": "code",
      "metadata": {
        "id": "apqEbb0_rxDv",
        "colab_type": "code",
        "colab": {}
      },
      "source": [
        "import numpy as np\n",
        "import pandas as pd\n",
        "from matplotlib import pyplot as plt"
      ],
      "execution_count": 0,
      "outputs": []
    },
    {
      "cell_type": "markdown",
      "metadata": {
        "id": "0nk9RNyIrvXn",
        "colab_type": "text"
      },
      "source": [
        "*1*. define step *function*"
      ]
    },
    {
      "cell_type": "code",
      "metadata": {
        "id": "my0kTJOqel89",
        "colab_type": "code",
        "colab": {}
      },
      "source": [
        "def step (ws):\n",
        "  return  ws>0"
      ],
      "execution_count": 0,
      "outputs": []
    },
    {
      "cell_type": "markdown",
      "metadata": {
        "id": "rupSnFAizRkX",
        "colab_type": "text"
      },
      "source": [
        ""
      ]
    },
    {
      "cell_type": "markdown",
      "metadata": {
        "id": "Ws15n2B6ewld",
        "colab_type": "text"
      },
      "source": [
        "2. define error"
      ]
    },
    {
      "cell_type": "code",
      "metadata": {
        "id": "7ntD6sioe3D1",
        "colab_type": "code",
        "colab": {}
      },
      "source": [
        "def error (y,x,w,b ):\n",
        "  \n",
        "  y_hat =y_pred(w,x ,b) \n",
        "  return np.sum(y ==y_hat)"
      ],
      "execution_count": 0,
      "outputs": []
    },
    {
      "cell_type": "code",
      "metadata": {
        "id": "snJLC0LKfGXl",
        "colab_type": "code",
        "colab": {}
      },
      "source": [
        "def y_pred(w,x,b=1):\n",
        "  if type (x[0]) ==np.ndarray :\n",
        "    x= np.hstack( (x , np.ones(len(x)).reshape(-1,1)   ))     \n",
        "#   print(x.shape , w.shape)  \n",
        "  return step(x@w.reshape(-1,1))"
      ],
      "execution_count": 0,
      "outputs": []
    },
    {
      "cell_type": "markdown",
      "metadata": {
        "id": "rhEJkWnsfCNV",
        "colab_type": "text"
      },
      "source": [
        "\n",
        "\n",
        "\n",
        "calc y_hat:"
      ]
    },
    {
      "cell_type": "markdown",
      "metadata": {
        "id": "cHO7DHnQfXqv",
        "colab_type": "text"
      },
      "source": [
        "defrential of error by w -> x+w0"
      ]
    },
    {
      "cell_type": "code",
      "metadata": {
        "id": "HhLc6ybefnYV",
        "colab_type": "code",
        "colab": {}
      },
      "source": [
        "def derr(x):\n",
        "  sign = error(y,x,w)\n",
        "  \n",
        "  return x * (error(y,x,w) -0.5)/0.5"
      ],
      "execution_count": 0,
      "outputs": []
    },
    {
      "cell_type": "markdown",
      "metadata": {
        "id": "qfzbTSmbr2AH",
        "colab_type": "text"
      },
      "source": [
        "updating w: "
      ]
    },
    {
      "cell_type": "code",
      "metadata": {
        "id": "Lg1rAAcXgCbt",
        "colab_type": "code",
        "colab": {}
      },
      "source": [
        "def new_w (y,y_hat,w,x, learning_rate):\n",
        "  \n",
        "  return w+learning_rate*derr(x)"
      ],
      "execution_count": 0,
      "outputs": []
    },
    {
      "cell_type": "markdown",
      "metadata": {
        "id": "jtd6fPJHr613",
        "colab_type": "text"
      },
      "source": [
        "inetelize and fit preceptron "
      ]
    },
    {
      "cell_type": "code",
      "metadata": {
        "id": "UaQjW0d3V1vy",
        "colab_type": "code",
        "colab": {}
      },
      "source": [
        "# def train_weights(train, l_rate, n_epoch):\n",
        "# \tweights = [0.0 for i in range(len(train[0]))]\n",
        "# \tfor epoch in range(n_epoch):\n",
        "# \t\tsum_error = 0.0\n",
        "# \t\tfor row in train:\n",
        "# \t\t\tprediction = predict(row, weights)\n",
        "# \t\t\terror = row[-1] - prediction\n",
        "# \t\t\tsum_error += error**2\n",
        "# \t\t\tweights[0] = weights[0] + l_rate * error\n",
        "# \t\t\tfor i in range(len(row)-1):\n",
        "# \t\t\t\tweights[i + 1] = weights[i + 1] + l_rate * error * row[i]\n",
        "# \t\tprint('>epoch=%d, lrate=%.3f, error=%.3f' % (epoch, l_rate, sum_error))\n",
        "# \treturn weights"
      ],
      "execution_count": 0,
      "outputs": []
    },
    {
      "cell_type": "code",
      "metadata": {
        "id": "7bt2cRTznl2M",
        "colab_type": "code",
        "colab": {}
      },
      "source": [
        "def inetelize_preceptron(x,y , learn_rate , epsilon):\n",
        "  w =  np.random.rand(len(x[0])+1 )\n",
        "  w[-1]=0\n",
        "  b= 1\n",
        "  e = error  (y,x,w ,b)\n",
        "  indices = np.arange(y.shape[0])\n",
        "  np.random.shuffle(indices)\n",
        "  X = x[indices]\n",
        "  y = y[indices]\n",
        "    \n",
        "  while np.abs (e) > epsilon:            \n",
        "     for i, x in enumerate(X):\n",
        "        wt=w\n",
        "        wt[-1]=b\n",
        "        x_temp= list(x.ravel())\n",
        "        x_temp.append([1])\n",
        "        \n",
        "        y_cap = y_pred(np.array(x_temp) ,np.array(wt))\n",
        "       \n",
        "        if y_cap - y[i] == 1:\n",
        "            w -= x@learn_rate\n",
        "            b -= learn_rate\n",
        "\n",
        "        \n",
        "        elif y_cap - y[i] == -1:\n",
        "            w -= x@learn_rate\n",
        "            b -= learn_rate\n",
        "\n",
        "    \n",
        "  return w[:-1] , b                    \n",
        "                     "
      ],
      "execution_count": 0,
      "outputs": []
    },
    {
      "cell_type": "markdown",
      "metadata": {
        "id": "EAsPs6Tvr6Fn",
        "colab_type": "text"
      },
      "source": [
        "data :"
      ]
    },
    {
      "cell_type": "code",
      "metadata": {
        "id": "0iomA9NHsDyX",
        "colab_type": "code",
        "colab": {}
      },
      "source": [
        "FEATURE_COUNT = 2\n",
        "SAMPLES = 1000\n",
        "X = np.random.rand(SAMPLES, FEATURE_COUNT)\n",
        "weights = np.random.normal(0, .5, size=3)\n",
        "weights = np.array([-0.01, -0.40904551,  0.33732037])\n",
        "X_bias = np.hstack((np.ones(SAMPLES)[:, np.newaxis], X))\n",
        "color = X_bias @ weights\n",
        "good_X = (np.abs(color) > .07)\n",
        "\n",
        "#X[good_X] -> Features matrix\n",
        "#(color[good_X] > 0) -> y target\n",
        "\n",
        "y= color[good_X] > 0\n",
        "X=X[good_X]\n",
        "\n",
        "w, b  = inetelize_preceptron (X,y, 0.1, 0.0001)\n",
        "\n"
      ],
      "execution_count": 0,
      "outputs": []
    },
    {
      "cell_type": "code",
      "metadata": {
        "id": "Q_d9jCadsuzz",
        "colab_type": "code",
        "colab": {}
      },
      "source": [
        "\n",
        "w"
      ],
      "execution_count": 0,
      "outputs": []
    },
    {
      "cell_type": "code",
      "metadata": {
        "id": "KJaiumT5zm0l",
        "colab_type": "code",
        "colab": {}
      },
      "source": [
        "X.shape , y.shape"
      ],
      "execution_count": 0,
      "outputs": []
    },
    {
      "cell_type": "code",
      "metadata": {
        "id": "Cvw_dDy909bw",
        "colab_type": "code",
        "colab": {}
      },
      "source": [
        "  x= np.hstack( (X , np.ones(len(X)).reshape(-1,1)   ))\n",
        "  w.append(b)"
      ],
      "execution_count": 0,
      "outputs": []
    },
    {
      "cell_type": "code",
      "metadata": {
        "id": "rgy-LckQ1F1w",
        "colab_type": "code",
        "colab": {}
      },
      "source": [
        "X.shape , np.ones(len(X)).reshape(-1,1).shape "
      ],
      "execution_count": 0,
      "outputs": []
    },
    {
      "cell_type": "code",
      "metadata": {
        "id": "SjhgkGy91MYQ",
        "colab_type": "code",
        "colab": {}
      },
      "source": [
        "w =  np.random.rand(len(X[0]) )\n",
        "b= 1\n",
        "w.append(-1,np.array ([b]))"
      ],
      "execution_count": 0,
      "outputs": []
    },
    {
      "cell_type": "code",
      "metadata": {
        "id": "D4jZ--Ah3YZh",
        "colab_type": "code",
        "colab": {}
      },
      "source": [
        "\n",
        "x=np.array([1,2,3])\n",
        "x=np.array([1,2,3])\n",
        "x@x.reshape(-1,1)"
      ],
      "execution_count": 0,
      "outputs": []
    },
    {
      "cell_type": "code",
      "metadata": {
        "id": "mkd10I0KjLXP",
        "colab_type": "code",
        "colab": {}
      },
      "source": [
        ""
      ],
      "execution_count": 0,
      "outputs": []
    }
  ]
}