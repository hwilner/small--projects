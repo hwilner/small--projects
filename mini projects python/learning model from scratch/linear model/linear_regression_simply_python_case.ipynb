{
  "nbformat": 4,
  "nbformat_minor": 0,
  "metadata": {
    "colab": {
      "name": "linear_regression simply python case.ipynb",
      "version": "0.3.2",
      "provenance": [],
      "collapsed_sections": []
    },
    "kernelspec": {
      "name": "python3",
      "display_name": "Python 3"
    }
  },
  "cells": [
    {
      "cell_type": "markdown",
      "metadata": {
        "id": "ucwTXv7Fas4I",
        "colab_type": "text"
      },
      "source": [
        "## Preperation:"
      ]
    },
    {
      "cell_type": "code",
      "metadata": {
        "id": "hbBVJAQnU2YS",
        "colab_type": "code",
        "colab": {}
      },
      "source": [
        "import numpy as np\n",
        "from matplotlib import pyplot as plt"
      ],
      "execution_count": 0,
      "outputs": []
    },
    {
      "cell_type": "code",
      "metadata": {
        "id": "b5fa6W1OVDPV",
        "colab_type": "code",
        "colab": {}
      },
      "source": [
        "SAMPLE_COUNT = 55"
      ],
      "execution_count": 0,
      "outputs": []
    },
    {
      "cell_type": "code",
      "metadata": {
        "id": "wFWWJ_H_U-se",
        "colab_type": "code",
        "colab": {}
      },
      "source": [
        "a = 5 * np.random.rand()\n",
        "b = 10 * np.random.rand()\n",
        "X = 10 * np.random.rand(SAMPLE_COUNT)\n",
        "np.ndarray.sort(X)\n",
        "y = a * (X + 2 * (-.5 + np.random.rand(X.shape[0]))) + b "
      ],
      "execution_count": 0,
      "outputs": []
    },
    {
      "cell_type": "code",
      "metadata": {
        "id": "aIhrXXskVUkG",
        "colab_type": "code",
        "outputId": "23f9d121-1459-4a30-c08c-ee531bf46898",
        "colab": {
          "base_uri": "https://localhost:8080/",
          "height": 69
        }
      },
      "source": [
        "points = list(zip(X, y))\n",
        "points[:3]"
      ],
      "execution_count": 0,
      "outputs": [
        {
          "output_type": "execute_result",
          "data": {
            "text/plain": [
              "[(0.0231331327498685, 12.565160012695149),\n",
              " (0.02433039587478536, 9.048966286398922),\n",
              " (0.3679185928019135, 14.333781781358837)]"
            ]
          },
          "metadata": {
            "tags": []
          },
          "execution_count": 4
        }
      ]
    },
    {
      "cell_type": "markdown",
      "metadata": {
        "id": "PVt-7vERa007",
        "colab_type": "text"
      },
      "source": [
        "### These are the randomly sampled points and the 'real' line:"
      ]
    },
    {
      "cell_type": "code",
      "metadata": {
        "id": "PVgeT_AfVZwW",
        "colab_type": "code",
        "outputId": "f3be6d41-cfa0-4c66-8275-5c723b57ebb5",
        "colab": {
          "base_uri": "https://localhost:8080/",
          "height": 286
        }
      },
      "source": [
        "plt.plot(X, a * X + b)\n",
        "plt.scatter(*list(zip(*points)))"
      ],
      "execution_count": 0,
      "outputs": [
        {
          "output_type": "execute_result",
          "data": {
            "text/plain": [
              "<matplotlib.collections.PathCollection at 0x7f916a595cf8>"
            ]
          },
          "metadata": {
            "tags": []
          },
          "execution_count": 5
        },
        {
          "output_type": "display_data",
          "data": {
            "image/png": "[encoded data removed]",
            "text/plain": [
              "<Figure size 432x288 with 1 Axes>"
            ]
          },
          "metadata": {
            "tags": []
          }
        }
      ]
    },
    {
      "cell_type": "markdown",
      "metadata": {
        "id": "QXqj-nlXZvw-",
        "colab_type": "text"
      },
      "source": [
        "Define ***a*** & ***b*** to 1"
      ]
    },
    {
      "cell_type": "code",
      "metadata": {
        "id": "jnjYatdPZyL2",
        "colab_type": "code",
        "colab": {}
      },
      "source": [
        "a, b = 1, 1"
      ],
      "execution_count": 0,
      "outputs": []
    },
    {
      "cell_type": "markdown",
      "metadata": {
        "id": "MzkV-zUNWgMf",
        "colab_type": "text"
      },
      "source": [
        "Q1.a\n",
        "Normalize (MinMax) the values of X & y.\n",
        "This mean the minimum will be zero and the maximum will be 1.\n"
      ]
    },
    {
      "cell_type": "code",
      "metadata": {
        "id": "T0U0HmbBnahm",
        "colab_type": "code",
        "colab": {}
      },
      "source": [
        "#saving coorect min and max for posible future role\n",
        "xmin,xmax=min(X), max(X) \n",
        "ymin,ymax=min(y), max(y)\n",
        "\n",
        "#normalizing X\n",
        "x_nor= (X-xmin)/(xmax-xmin)\n",
        "\n",
        "\n",
        "#normalizing y\n",
        "y_nor= (y-ymin)/(ymax-ymin)\n",
        "\n",
        "\n"
      ],
      "execution_count": 0,
      "outputs": []
    },
    {
      "cell_type": "markdown",
      "metadata": {
        "id": "orW2Dn6pVqAC",
        "colab_type": "text"
      },
      "source": [
        "Q1.b Compute the average from the sum of the derivatives of the error of all points."
      ]
    },
    {
      "cell_type": "code",
      "metadata": {
        "id": "oRTwpr1MpVME",
        "colab_type": "code",
        "outputId": "9ed30810-d929-4d10-b6c7-5352edab89ad",
        "colab": {
          "base_uri": "https://localhost:8080/",
          "height": 52
        }
      },
      "source": [
        "def error (a,b,X,y):\n",
        "  return .5 * (y - (a * X + b)) ** 2\n",
        "\n",
        "# calculatin 'a' derivative error in dicrit point \n",
        "def a_error (a,b,X,y):\n",
        "  return (y-(a*X+b))*(-X)\n",
        "\n",
        "# calculatin 'b' derivative error in dicrit point             \n",
        "def b_error (a,b,X,y):\n",
        "  return (y-a*X-b)*(-1)\n",
        "\n",
        "#updating a and b by the derivative mean\n",
        "def updaitig_weigth (a,b,x_nor,y_nor,learning_rate):\n",
        "  new_a = a - learning_rate * mean([a_error(a,b,x,y) for x,y in zip(x_nor,y_nor) ])\n",
        "  new_b = b - learning_rate * mean([b_error(a,b,x,y) for x,y in zip(x_nor,y_nor) ])\n",
        "  cor_error = mean([error(a,b,x,y) for x,y in zip(x_nor,y_nor) ])\n",
        "  return float(new_a),float(new_b),float(cor_error)\n",
        "\n",
        "\n",
        "# function for averaging list\n",
        "def mean(a):\n",
        "  return sum(a)/float(len(a))\n",
        "\n",
        "## trying to understand error in the while loop\n",
        "d,f,g=updaitig_weigth (a,b,x_nor,y_nor,0.002) \n",
        "print(d,f,g)\n",
        "print(type(d),type(f),type(g))"
      ],
      "execution_count": 0,
      "outputs": [
        {
          "output_type": "stream",
          "text": [
            "0.9990231278059567 0.9979282621040186 0.5384544946302536\n",
            "<class 'float'> <class 'float'> <class 'float'>\n"
          ],
          "name": "stdout"
        }
      ]
    },
    {
      "cell_type": "markdown",
      "metadata": {
        "id": "LiB0E-duWe5Y",
        "colab_type": "text"
      },
      "source": [
        "Q1.c Create a variable with a small value and assign it to the name ***learning_rate***, you may need to slowly deminish that value."
      ]
    },
    {
      "cell_type": "code",
      "metadata": {
        "id": "t0X8h0oNobjl",
        "colab_type": "code",
        "colab": {}
      },
      "source": [
        "learning_rate=1e-3"
      ],
      "execution_count": 0,
      "outputs": []
    },
    {
      "cell_type": "markdown",
      "metadata": {
        "id": "Vqhz-R8YX6rd",
        "colab_type": "text"
      },
      "source": [
        "Q1.d Write an outer loop that deducts the resulting mean of derivative from a & b respectively each iteration."
      ]
    },
    {
      "cell_type": "code",
      "metadata": {
        "id": "CwuVI0fAGtSz",
        "colab_type": "code",
        "outputId": "413dd32e-268f-4fcc-fd1d-52120cef4817",
        "colab": {
          "base_uri": "https://localhost:8080/",
          "height": 359
        }
      },
      "source": [
        "%%timeit\n",
        "\n",
        "a, b = 1, 1\n",
        "curent_error=float(mean(error(a,b,x_nor,y_nor)))\n",
        "iteration=0\n",
        "iteration_max=1000\n",
        "#saving a's values\n",
        "\n",
        "all_as=[a]\n",
        "#saving b's values\n",
        "all_bs=[b]\n",
        "#saving errors :\n",
        "errors=[curent_error] \n",
        "while (curent_error>1e-3 and iteration<iteration_max) :\n",
        "  a,b,curent_error=updaitig_weigth(a,b,x_nor,y_nor,learning_rate)\n",
        "  #all_as.append(a)\n",
        "  #all_bs.append(b)\n",
        "  iteration+=1\n",
        "  \n",
        "  \n",
        "  if iteration%100==0:\n",
        "    \n",
        "    plt.subplot(1, 3, 1)\n",
        "    plt.scatter(a, b)\n",
        "    plt.subplot(1, 3, 2)\n",
        "    plt.plot(x_nor, a * x_nor + b)\n",
        "    plt.scatter(x_nor, y_nor, s=1)\n",
        "    ## saving every 1000 iteration error and ploting it\n",
        "    errors.append(curent_error)\n",
        "    plt.subplot(1, 3, 3)\n",
        "    plt.plot(*zip(*enumerate(np.log(errors[4:]))))\n",
        "\n",
        "  "
      ],
      "execution_count": 0,
      "outputs": [
        {
          "output_type": "stream",
          "text": [
            "/usr/local/lib/python3.6/dist-packages/matplotlib/figure.py:98: MatplotlibDeprecationWarning: \n",
            "Adding an axes using the same arguments as a previous axes currently reuses the earlier instance.  In a future version, a new instance will always be created and returned.  Meanwhile, this warning can be suppressed, and the future behavior ensured, by passing a unique label to each axes instance.\n",
            "  \"Adding an axes using the same arguments as a previous axes \"\n"
          ],
          "name": "stderr"
        },
        {
          "output_type": "stream",
          "text": [
            "1 loop, best of 3: 241 ms per loop\n"
          ],
          "name": "stdout"
        },
        {
          "output_type": "display_data",
          "data": {
            "image/png": "[encoded data removed]",
            "text/plain": [
              "<Figure size 432x288 with 3 Axes>"
            ]
          },
          "metadata": {
            "tags": []
          }
        }
      ]
    },
    {
      "cell_type": "markdown",
      "metadata": {
        "id": "FMMbduaUY0EM",
        "colab_type": "text"
      },
      "source": [
        "Plotting the line and the weight values:"
      ]
    },
    {
      "cell_type": "code",
      "metadata": {
        "id": "PDgDmoW_YF0t",
        "colab_type": "code",
        "outputId": "bcbb1f82-4f6e-49f0-f253-6193599b36dd",
        "colab": {
          "base_uri": "https://localhost:8080/",
          "height": 286
        }
      },
      "source": [
        "\"\"\"#for ploting\n",
        "X=xnor\n",
        "y=ynor\n",
        "\n",
        "plt.subplot(2, 1, 1)\n",
        "plt.scatter(a, b)\n",
        "plt.subplot(2, 1, 2)\n",
        "plt.plot(X, a * X + b)\n",
        "plt.scatter(X, y, s=1)\n",
        "'''"
      ],
      "execution_count": 0,
      "outputs": [
        {
          "output_type": "execute_result",
          "data": {
            "text/plain": [
              "<matplotlib.collections.PathCollection at 0x7f11eb2e0630>"
            ]
          },
          "metadata": {
            "tags": []
          },
          "execution_count": 74
        },
        {
          "output_type": "display_data",
          "data": {
            "image/png": "[encoded data removed]",
            "text/plain": [
              "<Figure size 432x288 with 2 Axes>"
            ]
          },
          "metadata": {
            "tags": []
          }
        }
      ]
    },
    {
      "cell_type": "markdown",
      "metadata": {
        "id": "gkoSFZv0aS_E",
        "colab_type": "text"
      },
      "source": [
        "Q1.e As you iterate and modify the weights, draw the graph using the code example."
      ]
    },
    {
      "cell_type": "markdown",
      "metadata": {
        "id": "wtCxHOFHalEU",
        "colab_type": "text"
      },
      "source": [
        "Q1.f Inverse the normalization process."
      ]
    },
    {
      "cell_type": "code",
      "metadata": {
        "id": "jDyzXkAyMMUg",
        "colab_type": "code",
        "outputId": "8afb057d-f0ff-4a56-a021-de07dd67a738",
        "colab": {
          "base_uri": "https://localhost:8080/",
          "height": 440
        }
      },
      "source": [
        "X2=(xmax-xmin)*x_nor+xmin\n",
        "\n",
        "y2=(ymax-ymin)*y_nor+ymin\n",
        "points = list(zip(X2, y2))\n",
        "points[:3]\n",
        "a_norm=a*((ymax-ymin)+ymin)/(xmax-xmin)\n",
        "b_norm= mean(y2-a_norm*X2)\n",
        "plt.plot(X2, a_norm * X2 + b_norm)\n",
        "plt.scatter(*list(zip(*points)))\n",
        "\n",
        "\n"
      ],
      "execution_count": 0,
      "outputs": [
        {
          "output_type": "stream",
          "text": [
            "[ 7.10232292  3.56583287 10.73577005  4.66049145  8.48903728 11.88299219\n",
            "  6.59098012  8.91504423 13.1369078  14.74407096 11.88629892  9.39698628\n",
            "  9.0493514  13.92054714 10.53720821 13.67163981 14.5079316  14.95973511\n",
            " 14.94448865 14.88211795 14.74651207 18.40791195 21.70058627 15.27278767\n",
            " 21.29351164 21.15022455 19.49867853 18.98335169 22.64355095 19.79118608\n",
            " 19.7113168  22.51538511 23.76709851 26.56164323 20.95782431 24.34307015\n",
            " 27.86534808 25.36850429 24.01008617 26.62134494 29.89402467 26.05717607\n",
            " 30.77760182 27.57999913 33.16575326 29.33346972 36.55909603 31.68060926\n",
            " 34.63142098 33.359621   37.60691856 35.01130643 36.2629084  37.16428441\n",
            " 40.43996337]\n"
          ],
          "name": "stdout"
        },
        {
          "output_type": "display_data",
          "data": {
            "image/png": "[encoded data removed]",
            "text/plain": [
              "<Figure size 432x288 with 1 Axes>"
            ]
          },
          "metadata": {
            "tags": []
          }
        }
      ]
    },
    {
      "cell_type": "markdown",
      "metadata": {
        "id": "rtdu7mpu-hkK",
        "colab_type": "text"
      },
      "source": [
        "Exercise  29"
      ]
    },
    {
      "cell_type": "code",
      "metadata": {
        "id": "Xz0sbn41-nTy",
        "colab_type": "code",
        "outputId": "bd7aa85b-7e3a-49de-8bea-2e6fe6b3c893",
        "colab": {
          "base_uri": "https://localhost:8080/",
          "height": 68
        }
      },
      "source": [
        "# 4799 2739 8713 6272\n",
        "creditcard_for_validation=input(\"please enter credit card number you want to validate\\n\").replace(' ','')[::-1]\n",
        "total_sum = 0\n",
        "e=[]\n",
        "for i, c in enumerate(creditcard_for_validation):\n",
        "  e .append( int(c) * (2 if i % 2 else 1))\n",
        "if sum(e)%10:\n",
        "  print('the cerdit card you entered is valid')\n",
        "else:\n",
        "  print('the cerdit card you entered is not valid')\n",
        "  \n",
        "  \n"
      ],
      "execution_count": 0,
      "outputs": [
        {
          "output_type": "stream",
          "text": [
            "please enter credit card number you want to validate\n",
            "4799 2739 8713 6272\n",
            "the cerdit card you entered is valid\n"
          ],
          "name": "stdout"
        }
      ]
    }
  ]
}