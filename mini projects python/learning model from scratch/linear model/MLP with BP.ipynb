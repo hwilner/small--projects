{
  "nbformat": 4,
  "nbformat_minor": 0,
  "metadata": {
    "colab": {
      "name": "Ann.ipynb",
      "version": "0.3.2",
      "provenance": [],
      "collapsed_sections": []
    },
    "kernelspec": {
      "name": "python3",
      "display_name": "Python 3"
    }
  },
  "cells": [
    {
      "cell_type": "code",
      "metadata": {
        "id": "-LmxXPbhR2mr",
        "colab_type": "code",
        "colab": {}
      },
      "source": [
        "import numpy as np"
      ],
      "execution_count": 0,
      "outputs": []
    },
    {
      "cell_type": "code",
      "metadata": {
        "id": "FoBB1cCER7yK",
        "colab_type": "code",
        "colab": {}
      },
      "source": [
        "\n",
        "np.random.seed(666)"
      ],
      "execution_count": 0,
      "outputs": []
    },
    {
      "cell_type": "code",
      "metadata": {
        "id": "kdARk6-JSM7i",
        "colab_type": "code",
        "colab": {}
      },
      "source": [
        "import tensorflow as tf\n",
        "mnist = tf.keras.datasets.mnist\n",
        "\n",
        "(x_train, y_train),(x_test, y_test) = mnist.load_data()\n",
        "x_train, x_test = x_train / 255.0, x_test / 255.0"
      ],
      "execution_count": 0,
      "outputs": []
    },
    {
      "cell_type": "code",
      "metadata": {
        "id": "BFL2swdcSrNx",
        "colab_type": "code",
        "colab": {}
      },
      "source": [
        "x_train.shape, y_train.shape\n",
        "miniX, miniy= x_train[:200] ,y_train[:200]"
      ],
      "execution_count": 0,
      "outputs": []
    },
    {
      "cell_type": "code",
      "metadata": {
        "id": "O8PZJDEWSxKy",
        "colab_type": "code",
        "outputId": "d1332b3d-b141-423f-acdb-fdce0a3af2da",
        "colab": {
          "base_uri": "https://localhost:8080/",
          "height": 466
        }
      },
      "source": [
        "def feed_forw( x , weigths_layers ,activation ='relu'):\n",
        "#   input_layer = x+layers_bayes[0]\n",
        "  for i, w in enumerate(weigths_layers):\n",
        "    \n",
        "    # maybe ravel and hstack? \n",
        "    x_andb = np.hstack ((x.ravel(), np.array([1]))) \n",
        "    x_andb=x_andb.reshape(-1,1)\n",
        "    weigthed_x = x_andb@w.reshape(1,-1)\n",
        "#     print(weigthed_x.shape)\n",
        "#     print(w.shape)\n",
        "    # suming inputs:\n",
        "    sigma_x = np.sum (weigthed_x, axis = 0)\n",
        "#     print (sigma_x.shape) \n",
        "    if i<len(weigths_layers)-1:\n",
        "      if activation == 'relu':\n",
        "        x = np.maximum(sigma_x , np.zeros(len(sigma_x)))  # relu for each indices \n",
        "#         print( x.shape)\n",
        "    else:\n",
        "      x= 1/( 1+ np.exp(sigma_x ))   # else or for output - logistic function \n",
        "      if i == len(weigths_layers)-1:\n",
        "        break     \n",
        "  return  x    \n",
        "\n",
        "\n",
        "def predict (X):\n",
        "  y= []\n",
        "  for x in X:\n",
        "    y = argmax(feed_forw(x))  # we return the most probabal as label \n",
        "  return y\n",
        "\n",
        "\n",
        "\n",
        "def fit (X,y, lr = 1):\n",
        "  #inetelizing neural net\n",
        "  # change it laer to somthing mor general -> easier way to chang hien layers shapes\n",
        "\n",
        "  input_len= x_train[0].shape\n",
        "  hidden_len=3\n",
        "  hidden_len2=2\n",
        "  weigths_layers = [np.random.rand(*input_len) , np.random.rand(hidden_len) , np.random.rand(hidden_len2), np.random.rand(10)]\n",
        "#   weigths_layers= [ np.random.rand(*x_train[0].shape)  for i in  layers_bayes[1:] for j in i]\n",
        "\n",
        "  for i,x in  enumerate(X):\n",
        "    labels_prob = feed_forw(x, weigths_layers)\n",
        "    \n",
        "    true_p = np.zeros(10)\n",
        "    true_p[ y[i]]=1\n",
        "    weigths_layers= backprop(true_p , labels_prob , x,weigths_layers ,lr)\n",
        "    \n",
        "    \n",
        "    \n",
        "    \n",
        "    \n",
        "def backprop( y,y_hat, x ,weigths_layer,  lr=1 , activation ='relu'):\n",
        "#   a= y_hat\n",
        "  weigths_layer =weigths_layer[::-1]\n",
        "  layers = len(weigths_layer)\n",
        "  \n",
        "  \n",
        "  \n",
        "  for i in range( layers ):\n",
        "    \n",
        "    \n",
        "    x= x.ravel()\n",
        "    w= weigths_layer[i]\n",
        "#     w= w.ravel()\n",
        "    if (i==0) or (activation!='relu' ):\n",
        "      w+= (1/len(y) )* lr * ( (y-y_hat)*(1/(1+np.exp(y_hat)) ) @ (1-1/(1+np.exp(y_hat))) ) # fix derrivate by chain role\n",
        "#        w+= (1/len(y) )* lr * x@ ( (y-y_hat)@(1/(1+np.exp(y_hat)) ) @ (1-1/(1+np.exp(y_hat))) )\n",
        "    else:  \n",
        "#       w+= lr* x@w.reshape(1,-1)  # updating for hidden/input  relu  .. maybe change to y_hat\n",
        "      print(y_hat.reshape(-1,1).shape ,w.reshape(1,-1).shape ,w.shape , y_hat.shape)\n",
        "      w+= (lr* np.sum(y_hat.reshape(-1,1) @ w.reshape(1,-1) ,axis =0)).reshape(*w.shape)\n",
        "    weigths_layer[i] =w\n",
        "  return   weigths_layer\n",
        "#         np.sum(h.reshape(-1,1)@w.reshape(1,-1) ,axis =0)# updating for hidden/input  relu  .. maybe change to y_hat\n",
        "  \n",
        "  \n",
        "   \n",
        "y = fit( miniX, miniy )\n",
        "    \n",
        "  "
      ],
      "execution_count": 0,
      "outputs": [
        {
          "output_type": "stream",
          "text": [
            "(10, 1) (1, 2) (2,) (10,)\n",
            "(10, 1) (1, 3) (3,) (10,)\n",
            "(10, 1) (1, 784) (28, 28) (10,)\n"
          ],
          "name": "stdout"
        },
        {
          "output_type": "stream",
          "text": [
            "/usr/local/lib/python3.6/dist-packages/ipykernel_launcher.py:19: RuntimeWarning: overflow encountered in exp\n"
          ],
          "name": "stderr"
        },
        {
          "output_type": "error",
          "ename": "ValueError",
          "evalue": "ignored",
          "traceback": [
            "\u001b[0;31m---------------------------------------------------------------------------\u001b[0m",
            "\u001b[0;31mValueError\u001b[0m                                Traceback (most recent call last)",
            "\u001b[0;32m<ipython-input-86-f374176693a2>\u001b[0m in \u001b[0;36m<module>\u001b[0;34m()\u001b[0m\n\u001b[1;32m     78\u001b[0m \u001b[0;34m\u001b[0m\u001b[0m\n\u001b[1;32m     79\u001b[0m \u001b[0;34m\u001b[0m\u001b[0m\n\u001b[0;32m---> 80\u001b[0;31m \u001b[0my\u001b[0m \u001b[0;34m=\u001b[0m \u001b[0mfit\u001b[0m\u001b[0;34m(\u001b[0m \u001b[0mminiX\u001b[0m\u001b[0;34m,\u001b[0m \u001b[0mminiy\u001b[0m \u001b[0;34m)\u001b[0m\u001b[0;34m\u001b[0m\u001b[0;34m\u001b[0m\u001b[0m\n\u001b[0m\u001b[1;32m     81\u001b[0m \u001b[0;34m\u001b[0m\u001b[0m\n\u001b[1;32m     82\u001b[0m \u001b[0;34m\u001b[0m\u001b[0m\n",
            "\u001b[0;32m<ipython-input-86-f374176693a2>\u001b[0m in \u001b[0;36mfit\u001b[0;34m(X, y, lr)\u001b[0m\n\u001b[1;32m     46\u001b[0m     \u001b[0mtrue_p\u001b[0m \u001b[0;34m=\u001b[0m \u001b[0mnp\u001b[0m\u001b[0;34m.\u001b[0m\u001b[0mzeros\u001b[0m\u001b[0;34m(\u001b[0m\u001b[0;36m10\u001b[0m\u001b[0;34m)\u001b[0m\u001b[0;34m\u001b[0m\u001b[0;34m\u001b[0m\u001b[0m\n\u001b[1;32m     47\u001b[0m     \u001b[0mtrue_p\u001b[0m\u001b[0;34m[\u001b[0m \u001b[0my\u001b[0m\u001b[0;34m[\u001b[0m\u001b[0mi\u001b[0m\u001b[0;34m]\u001b[0m\u001b[0;34m]\u001b[0m\u001b[0;34m=\u001b[0m\u001b[0;36m1\u001b[0m\u001b[0;34m\u001b[0m\u001b[0;34m\u001b[0m\u001b[0m\n\u001b[0;32m---> 48\u001b[0;31m     \u001b[0mweigths_layers\u001b[0m\u001b[0;34m=\u001b[0m \u001b[0mbackprop\u001b[0m\u001b[0;34m(\u001b[0m\u001b[0mtrue_p\u001b[0m \u001b[0;34m,\u001b[0m \u001b[0mlabels_prob\u001b[0m \u001b[0;34m,\u001b[0m \u001b[0mx\u001b[0m\u001b[0;34m,\u001b[0m\u001b[0mweigths_layers\u001b[0m \u001b[0;34m,\u001b[0m\u001b[0mlr\u001b[0m\u001b[0;34m)\u001b[0m\u001b[0;34m\u001b[0m\u001b[0;34m\u001b[0m\u001b[0m\n\u001b[0m\u001b[1;32m     49\u001b[0m \u001b[0;34m\u001b[0m\u001b[0m\n\u001b[1;32m     50\u001b[0m \u001b[0;34m\u001b[0m\u001b[0m\n",
            "\u001b[0;32m<ipython-input-86-f374176693a2>\u001b[0m in \u001b[0;36mbackprop\u001b[0;34m(y, y_hat, x, weigths_layer, lr, activation)\u001b[0m\n\u001b[1;32m     66\u001b[0m \u001b[0;31m#     w= w.ravel()\u001b[0m\u001b[0;34m\u001b[0m\u001b[0;34m\u001b[0m\u001b[0;34m\u001b[0m\u001b[0m\n\u001b[1;32m     67\u001b[0m     \u001b[0;32mif\u001b[0m \u001b[0;34m(\u001b[0m\u001b[0mi\u001b[0m\u001b[0;34m==\u001b[0m\u001b[0;36m0\u001b[0m\u001b[0;34m)\u001b[0m \u001b[0;32mor\u001b[0m \u001b[0;34m(\u001b[0m\u001b[0mactivation\u001b[0m\u001b[0;34m!=\u001b[0m\u001b[0;34m'relu'\u001b[0m \u001b[0;34m)\u001b[0m\u001b[0;34m:\u001b[0m\u001b[0;34m\u001b[0m\u001b[0;34m\u001b[0m\u001b[0m\n\u001b[0;32m---> 68\u001b[0;31m       \u001b[0mw\u001b[0m\u001b[0;34m+=\u001b[0m \u001b[0;34m(\u001b[0m\u001b[0;36m1\u001b[0m\u001b[0;34m/\u001b[0m\u001b[0mlen\u001b[0m\u001b[0;34m(\u001b[0m\u001b[0my\u001b[0m\u001b[0;34m)\u001b[0m \u001b[0;34m)\u001b[0m\u001b[0;34m*\u001b[0m \u001b[0mlr\u001b[0m \u001b[0;34m*\u001b[0m \u001b[0;34m(\u001b[0m \u001b[0;34m(\u001b[0m\u001b[0my\u001b[0m\u001b[0;34m-\u001b[0m\u001b[0my_hat\u001b[0m\u001b[0;34m)\u001b[0m\u001b[0;34m*\u001b[0m\u001b[0;34m(\u001b[0m\u001b[0;36m1\u001b[0m\u001b[0;34m/\u001b[0m\u001b[0;34m(\u001b[0m\u001b[0;36m1\u001b[0m\u001b[0;34m+\u001b[0m\u001b[0mnp\u001b[0m\u001b[0;34m.\u001b[0m\u001b[0mexp\u001b[0m\u001b[0;34m(\u001b[0m\u001b[0my_hat\u001b[0m\u001b[0;34m)\u001b[0m\u001b[0;34m)\u001b[0m \u001b[0;34m)\u001b[0m \u001b[0;34m@\u001b[0m \u001b[0;34m(\u001b[0m\u001b[0;36m1\u001b[0m\u001b[0;34m-\u001b[0m\u001b[0;36m1\u001b[0m\u001b[0;34m/\u001b[0m\u001b[0;34m(\u001b[0m\u001b[0;36m1\u001b[0m\u001b[0;34m+\u001b[0m\u001b[0mnp\u001b[0m\u001b[0;34m.\u001b[0m\u001b[0mexp\u001b[0m\u001b[0;34m(\u001b[0m\u001b[0my_hat\u001b[0m\u001b[0;34m)\u001b[0m\u001b[0;34m)\u001b[0m\u001b[0;34m)\u001b[0m \u001b[0;34m)\u001b[0m \u001b[0;31m# fix derrivate by chain role\u001b[0m\u001b[0;34m\u001b[0m\u001b[0;34m\u001b[0m\u001b[0m\n\u001b[0m\u001b[1;32m     69\u001b[0m \u001b[0;31m#        w+= (1/len(y) )* lr * x@ ( (y-y_hat)@(1/(1+np.exp(y_hat)) ) @ (1-1/(1+np.exp(y_hat))) )\u001b[0m\u001b[0;34m\u001b[0m\u001b[0;34m\u001b[0m\u001b[0;34m\u001b[0m\u001b[0m\n\u001b[1;32m     70\u001b[0m     \u001b[0;32melse\u001b[0m\u001b[0;34m:\u001b[0m\u001b[0;34m\u001b[0m\u001b[0;34m\u001b[0m\u001b[0m\n",
            "\u001b[0;31mValueError\u001b[0m: operands could not be broadcast together with shapes (10,) (784,) "
          ]
        }
      ]
    },
    {
      "cell_type": "code",
      "metadata": {
        "id": "1EE0wzXjS2kC",
        "colab_type": "code",
        "colab": {}
      },
      "source": [
        "#inetelizing neural net\n",
        "\n",
        "input_len= x_train[0].shape\n",
        "hidden_len=3\n",
        "hidden_len2=2\n",
        "\n",
        "layers_bayes = [np.random.rand(*input_len) , np.random.rand(hidden_len) , np.random.rand(hidden_len2), np.random.rand(1)]\n",
        "\n",
        "weigths_layers= [ np.random.rand(*x_train[0].shape)  for i in  layers_bayes[1:] for j in i]\n",
        "\n",
        "\n",
        "\n",
        "# change out to 10?"
      ],
      "execution_count": 0,
      "outputs": []
    },
    {
      "cell_type": "code",
      "metadata": {
        "id": "9Bxa2_ACWSHq",
        "colab_type": "code",
        "outputId": "c6fcf227-e9e7-4302-8836-338a6686b432",
        "colab": {
          "base_uri": "https://localhost:8080/",
          "height": 130
        }
      },
      "source": [
        "# # pred :\n",
        "# def pred (x,w,b,activation):\n",
        "#   y_pred = x@w +b\n",
        "#   if activation == 'relu':\n",
        "#     return max(0, y_pred)\n",
        "#   if activation == 'sig':\n",
        "#     return 1/(1+2.21^y_pred)\n",
        "  \n",
        "  \n",
        "  \n",
        "# def error(y_hat, y_real):\n",
        "#     return 0.5 * (y_hat - y_real)**2\n",
        "\n",
        "# def delta (y_hat, y_real):\n",
        "#     return y_hat - y_real\n",
        "\n",
        "# def backprop(x, y, w, b, lr , activation):\n",
        "  \n",
        "  \n",
        "#     y_hat = pred(x, w, b , activation)\n",
        "\n",
        "#     # Layer Error\n",
        "#     e_o = error(y_hat, y_real)  \n",
        "# #     e_h = e_o  \n",
        "\n",
        "#     # Cost derivative for weights\n",
        "#     d_b =  e_o * \n",
        "#     d_w =  e_o * x\n",
        "\n",
        "#     # Update weights\n",
        "#     b -= lr * b\n",
        "#     w -= lr * w\n",
        "#     return( b, w)\n",
        "  \n",
        "  \n",
        "  \n",
        "    \n",
        "    \n",
        "\n",
        "  \n"
      ],
      "execution_count": 0,
      "outputs": [
        {
          "output_type": "error",
          "ename": "SyntaxError",
          "evalue": "ignored",
          "traceback": [
            "\u001b[0;36m  File \u001b[0;32m\"<ipython-input-17-c40dcebaf974>\"\u001b[0;36m, line \u001b[0;32m3\u001b[0m\n\u001b[0;31m    if activation = 'relu':\u001b[0m\n\u001b[0m                  ^\u001b[0m\n\u001b[0;31mSyntaxError\u001b[0m\u001b[0;31m:\u001b[0m invalid syntax\n"
          ]
        }
      ]
    },
    {
      "cell_type": "code",
      "metadata": {
        "id": "e32NVNVGWp6i",
        "colab_type": "code",
        "outputId": "c0a6651b-dc2d-4ba4-eda4-cb4e76147ac8",
        "colab": {
          "base_uri": "https://localhost:8080/",
          "height": 130
        }
      },
      "source": [
        ""
      ],
      "execution_count": 0,
      "outputs": [
        {
          "output_type": "error",
          "ename": "SyntaxError",
          "evalue": "ignored",
          "traceback": [
            "\u001b[0;36m  File \u001b[0;32m\"<ipython-input-20-2bcb0a7f47c1>\"\u001b[0;36m, line \u001b[0;32m2\u001b[0m\n\u001b[0;31m    for\u001b[0m\n\u001b[0m        ^\u001b[0m\n\u001b[0;31mSyntaxError\u001b[0m\u001b[0;31m:\u001b[0m invalid syntax\n"
          ]
        }
      ]
    },
    {
      "cell_type": "code",
      "metadata": {
        "id": "c2nXJ4LLmeU3",
        "colab_type": "code",
        "outputId": "62ce0eaf-ffa8-4491-fbbf-c6327f4beac0",
        "colab": {
          "base_uri": "https://localhost:8080/",
          "height": 86
        }
      },
      "source": [
        "layers_bayes"
      ],
      "execution_count": 0,
      "outputs": [
        {
          "output_type": "execute_result",
          "data": {
            "text/plain": [
              "[array([0.88187757]),\n",
              " array([0.08994311, 0.00569416, 0.50994517]),\n",
              " array([0.04504762, 0.09009201]),\n",
              " array([0.25051206])]"
            ]
          },
          "metadata": {
            "tags": []
          },
          "execution_count": 19
        }
      ]
    },
    {
      "cell_type": "code",
      "metadata": {
        "id": "hsqW5R53mev2",
        "colab_type": "code",
        "colab": {}
      },
      "source": [
        "c= np.hstack ((miniX[0].ravel(), np.array([1]))) \n",
        "w=np.array([3,2,1])\n",
        "\n",
        "c=c.reshape(-1,1)"
      ],
      "execution_count": 0,
      "outputs": []
    },
    {
      "cell_type": "code",
      "metadata": {
        "id": "pXNDgaP8ogo7",
        "colab_type": "code",
        "outputId": "21aa59d6-cfb8-4942-f07a-d2050181d3d0",
        "colab": {
          "base_uri": "https://localhost:8080/",
          "height": 137
        }
      },
      "source": [
        "w.shape\n",
        "c.shape\n",
        "c@w.reshape(1,-1)"
      ],
      "execution_count": 0,
      "outputs": [
        {
          "output_type": "execute_result",
          "data": {
            "text/plain": [
              "array([[0., 0., 0.],\n",
              "       [0., 0., 0.],\n",
              "       [0., 0., 0.],\n",
              "       ...,\n",
              "       [0., 0., 0.],\n",
              "       [0., 0., 0.],\n",
              "       [3., 2., 1.]])"
            ]
          },
          "metadata": {
            "tags": []
          },
          "execution_count": 54
        }
      ]
    },
    {
      "cell_type": "code",
      "metadata": {
        "id": "wStonDFAoxL3",
        "colab_type": "code",
        "outputId": "b8906d0c-c01c-4525-c093-45dd450ff83a",
        "colab": {
          "base_uri": "https://localhost:8080/",
          "height": 233
        }
      },
      "source": [
        "(1/len(y) ) ,\n",
        ",lr , x, \n",
        "( (y-y_hat),\n",
        " (1/(1+np.exp(y_hat)) ) \n",
        " ,\n",
        " (1-1/(1+exp(y_hat))) )"
      ],
      "execution_count": 0,
      "outputs": [
        {
          "output_type": "error",
          "ename": "NameError",
          "evalue": "ignored",
          "traceback": [
            "\u001b[0;31m---------------------------------------------------------------------------\u001b[0m",
            "\u001b[0;31mNameError\u001b[0m                                 Traceback (most recent call last)",
            "\u001b[0;32m<ipython-input-16-0694c57daa2a>\u001b[0m in \u001b[0;36m<module>\u001b[0;34m()\u001b[0m\n\u001b[0;32m----> 1\u001b[0;31m \u001b[0;34m(\u001b[0m\u001b[0;36m1\u001b[0m\u001b[0;34m/\u001b[0m\u001b[0mlen\u001b[0m\u001b[0;34m(\u001b[0m\u001b[0my\u001b[0m\u001b[0;34m)\u001b[0m \u001b[0;34m)\u001b[0m \u001b[0;34m,\u001b[0m\u001b[0;34m\u001b[0m\u001b[0;34m\u001b[0m\u001b[0m\n\u001b[0m\u001b[1;32m      2\u001b[0m \u001b[0mlr\u001b[0m\u001b[0;34m(\u001b[0m\u001b[0;34m\",\"\u001b[0m\u001b[0;34m,\u001b[0m \u001b[0;34m\"x,\"\u001b[0m\u001b[0;34m)\u001b[0m\u001b[0;34m\u001b[0m\u001b[0;34m\u001b[0m\u001b[0m\n\u001b[1;32m      3\u001b[0m ( (y-y_hat),\n\u001b[1;32m      4\u001b[0m  \u001b[0;34m(\u001b[0m\u001b[0;36m1\u001b[0m\u001b[0;34m/\u001b[0m\u001b[0;34m(\u001b[0m\u001b[0;36m1\u001b[0m\u001b[0;34m+\u001b[0m\u001b[0mnp\u001b[0m\u001b[0;34m.\u001b[0m\u001b[0mexp\u001b[0m\u001b[0;34m(\u001b[0m\u001b[0my_hat\u001b[0m\u001b[0;34m)\u001b[0m\u001b[0;34m)\u001b[0m \u001b[0;34m)\u001b[0m\u001b[0;34m\u001b[0m\u001b[0;34m\u001b[0m\u001b[0m\n\u001b[1;32m      5\u001b[0m  \u001b[0;34m,\u001b[0m\u001b[0;34m\u001b[0m\u001b[0;34m\u001b[0m\u001b[0m\n",
            "\u001b[0;31mNameError\u001b[0m: name 'y' is not defined"
          ]
        }
      ]
    },
    {
      "cell_type": "code",
      "metadata": {
        "id": "LjjdlXTYTWeW",
        "colab_type": "code",
        "colab": {}
      },
      "source": [
        "# (1/len(y) )* lr * x@ ( (y-y_hat)@ (1/(1+np.exp(y_hat)) ) @ (1-1/(1+np.exp(y_hat))) )\n",
        "\n",
        "w=np.random.rand(10) \n",
        "y=np.random.rand(10) \n",
        "y_hat=np.random.rand(10)\n",
        "x=np.random.rand(784)"
      ],
      "execution_count": 0,
      "outputs": []
    },
    {
      "cell_type": "code",
      "metadata": {
        "id": "OXg8r2dnmCYl",
        "colab_type": "code",
        "colab": {}
      },
      "source": [
        "s = 1-1/(1+np.exp(y_hat))"
      ],
      "execution_count": 0,
      "outputs": []
    },
    {
      "cell_type": "code",
      "metadata": {
        "id": "JKmRIlw-mHbg",
        "colab_type": "code",
        "colab": {}
      },
      "source": [
        "s2 =1/(1+np.exp(y_hat))\n",
        "drr =s@s2"
      ],
      "execution_count": 0,
      "outputs": []
    },
    {
      "cell_type": "code",
      "metadata": {
        "id": "xuy6YWyxmL0P",
        "colab_type": "code",
        "outputId": "e63fc624-534e-4acc-b52c-80a08dfa5b20",
        "colab": {
          "base_uri": "https://localhost:8080/",
          "height": 51
        }
      },
      "source": [
        "a=y-y_hat\n",
        "a*drr\n"
      ],
      "execution_count": 0,
      "outputs": [
        {
          "output_type": "execute_result",
          "data": {
            "text/plain": [
              "array([-0.31589264, -1.21053469,  0.4064461 ,  0.05560384,  0.34548348,\n",
              "        0.28590581,  0.73674488,  1.63257562,  1.25857438,  0.78139816])"
            ]
          },
          "metadata": {
            "tags": []
          },
          "execution_count": 57
        }
      ]
    },
    {
      "cell_type": "code",
      "metadata": {
        "id": "j2Cg6AgKmQJA",
        "colab_type": "code",
        "outputId": "cec290fc-46eb-43ff-e664-03f134bae76a",
        "colab": {
          "base_uri": "https://localhost:8080/",
          "height": 184
        }
      },
      "source": [
        "(y-y_hat)@ (1/(1+np.exp(y_hat)) ) @ (1-1/(1+np.exp(y_hat)))"
      ],
      "execution_count": 0,
      "outputs": [
        {
          "output_type": "error",
          "ename": "ValueError",
          "evalue": "ignored",
          "traceback": [
            "\u001b[0;31m---------------------------------------------------------------------------\u001b[0m",
            "\u001b[0;31mValueError\u001b[0m                                Traceback (most recent call last)",
            "\u001b[0;32m<ipython-input-49-f847872dbe3b>\u001b[0m in \u001b[0;36m<module>\u001b[0;34m()\u001b[0m\n\u001b[0;32m----> 1\u001b[0;31m \u001b[0;34m(\u001b[0m\u001b[0my\u001b[0m\u001b[0;34m-\u001b[0m\u001b[0my_hat\u001b[0m\u001b[0;34m)\u001b[0m\u001b[0;34m@\u001b[0m \u001b[0;34m(\u001b[0m\u001b[0;36m1\u001b[0m\u001b[0;34m/\u001b[0m\u001b[0;34m(\u001b[0m\u001b[0;36m1\u001b[0m\u001b[0;34m+\u001b[0m\u001b[0mnp\u001b[0m\u001b[0;34m.\u001b[0m\u001b[0mexp\u001b[0m\u001b[0;34m(\u001b[0m\u001b[0my_hat\u001b[0m\u001b[0;34m)\u001b[0m\u001b[0;34m)\u001b[0m \u001b[0;34m)\u001b[0m \u001b[0;34m@\u001b[0m \u001b[0;34m(\u001b[0m\u001b[0;36m1\u001b[0m\u001b[0;34m-\u001b[0m\u001b[0;36m1\u001b[0m\u001b[0;34m/\u001b[0m\u001b[0;34m(\u001b[0m\u001b[0;36m1\u001b[0m\u001b[0;34m+\u001b[0m\u001b[0mnp\u001b[0m\u001b[0;34m.\u001b[0m\u001b[0mexp\u001b[0m\u001b[0;34m(\u001b[0m\u001b[0my_hat\u001b[0m\u001b[0;34m)\u001b[0m\u001b[0;34m)\u001b[0m\u001b[0;34m)\u001b[0m\u001b[0;34m\u001b[0m\u001b[0;34m\u001b[0m\u001b[0m\n\u001b[0m",
            "\u001b[0;31mValueError\u001b[0m: matmul: Input operand 0 does not have enough dimensions (has 0, gufunc core with signature (n?,k),(k,m?)->(n?,m?) requires 1)"
          ]
        }
      ]
    },
    {
      "cell_type": "code",
      "metadata": {
        "id": "7tqiJlrvm2KQ",
        "colab_type": "code",
        "outputId": "56a5c9d1-40f6-412a-883d-1fa080d6017b",
        "colab": {
          "base_uri": "https://localhost:8080/",
          "height": 34
        }
      },
      "source": [
        "w = np.random.rand(2)\n",
        "\n",
        "h = np.random.rand(10)\n",
        "\n",
        "np.sum(h.reshape(-1,1)@w.reshape(1,-1) ,axis =0)"
      ],
      "execution_count": 0,
      "outputs": [
        {
          "output_type": "execute_result",
          "data": {
            "text/plain": [
              "array([1.35249767, 0.32463245])"
            ]
          },
          "metadata": {
            "tags": []
          },
          "execution_count": 74
        }
      ]
    },
    {
      "cell_type": "code",
      "metadata": {
        "id": "CP966GctoX4G",
        "colab_type": "code",
        "outputId": "3bfd7005-462a-4316-fa13-6e17ab70b2cf",
        "colab": {
          "base_uri": "https://localhost:8080/",
          "height": 164
        }
      },
      "source": [
        "np.dot(h,w)"
      ],
      "execution_count": 0,
      "outputs": [
        {
          "output_type": "error",
          "ename": "ValueError",
          "evalue": "ignored",
          "traceback": [
            "\u001b[0;31m---------------------------------------------------------------------------\u001b[0m",
            "\u001b[0;31mValueError\u001b[0m                                Traceback (most recent call last)",
            "\u001b[0;32m<ipython-input-68-28c474061953>\u001b[0m in \u001b[0;36m<module>\u001b[0;34m()\u001b[0m\n\u001b[0;32m----> 1\u001b[0;31m \u001b[0mnp\u001b[0m\u001b[0;34m.\u001b[0m\u001b[0mdot\u001b[0m\u001b[0;34m(\u001b[0m\u001b[0mh\u001b[0m\u001b[0;34m,\u001b[0m\u001b[0mw\u001b[0m\u001b[0;34m)\u001b[0m\u001b[0;34m\u001b[0m\u001b[0;34m\u001b[0m\u001b[0m\n\u001b[0m",
            "\u001b[0;31mValueError\u001b[0m: shapes (10,) and (2,) not aligned: 10 (dim 0) != 2 (dim 0)"
          ]
        }
      ]
    },
    {
      "cell_type": "code",
      "metadata": {
        "id": "2scc6_JPosqA",
        "colab_type": "code",
        "colab": {}
      },
      "source": [
        ""
      ],
      "execution_count": 0,
      "outputs": []
    }
  ]
}