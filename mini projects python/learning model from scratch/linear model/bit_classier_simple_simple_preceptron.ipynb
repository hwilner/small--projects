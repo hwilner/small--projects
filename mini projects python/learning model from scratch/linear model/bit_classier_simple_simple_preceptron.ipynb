{
  "nbformat": 4,
  "nbformat_minor": 0,
  "metadata": {
    "colab": {
      "name": " bit classier simple simple preceptron.ipynb",
      "version": "0.3.2",
      "provenance": [],
      "collapsed_sections": []
    },
    "kernelspec": {
      "name": "python3",
      "display_name": "Python 3"
    }
  },
  "cells": [
    {
      "cell_type": "code",
      "metadata": {
        "id": "5_D0C2emGC27",
        "colab_type": "code",
        "colab": {}
      },
      "source": [
        "import numpy as np\n",
        "\n",
        "X= np.random.randint(5, size=(21, 20000))\n",
        "y = np.sum(X, axis=0)> 10\n",
        "num_iter =100\n",
        "w = np.zeros(21)\n",
        "acc= np.zeros(num_iter)\n",
        "b=0\n",
        "lr= 0.1\n",
        "\n",
        "for j in range(num_iter): \n",
        "  w_temp= w.T\n",
        "  y_acc = w_temp@X\n",
        "  acc[j] = np.sum (y==(y_acc>0 ).astype(int) )/len(y)\n",
        "  \n",
        "  \n",
        "  for i,row in enumerate (X.T):\n",
        "    inp= row @w.T +b\n",
        "    pred= inp>0\n",
        "    w+= lr*row*(y[i]-pred.astype(int))\n",
        "  # optional\n",
        "#   if (y[i]-pred)!=0:\n",
        "#     b+= lr +(y[i]-pred)/np.abs((y[i]-pred))\n",
        "  \n",
        "  \n"
      ],
      "execution_count": 0,
      "outputs": []
    },
    {
      "cell_type": "code",
      "metadata": {
        "id": "qzCp8KTaJxgU",
        "colab_type": "code",
        "outputId": "660b1ef1-f691-4064-c321-1e696a3d1f82",
        "colab": {
          "base_uri": "https://localhost:8080/",
          "height": 286
        }
      },
      "source": [
        "\n",
        "from matplotlib import pyplot as plt\n",
        "\n",
        "plt.plot(acc)"
      ],
      "execution_count": 0,
      "outputs": [
        {
          "output_type": "execute_result",
          "data": {
            "text/plain": [
              "[<matplotlib.lines.Line2D at 0x7f9706f684a8>]"
            ]
          },
          "metadata": {
            "tags": []
          },
          "execution_count": 37
        },
        {
          "output_type": "display_data",
          "data": {
            "image/png": "[encoded data removed]",
            "text/plain": [
              "<Figure size 432x288 with 1 Axes>"
            ]
          },
          "metadata": {
            "tags": []
          }
        }
      ]
    },
    {
      "cell_type": "markdown",
      "metadata": {
        "id": "9Bkq0HTAKJgK",
        "colab_type": "text"
      },
      "source": [
        "no there is no need for bias or it's updating\n",
        "it find the \" true clasification after on iteration\""
      ]
    }
  ]
}